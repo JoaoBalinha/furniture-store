{
  "nbformat": 4,
  "nbformat_minor": 0,
  "metadata": {
    "colab": {
      "provenance": []
    },
    "kernelspec": {
      "name": "python3",
      "display_name": "Python 3"
    },
    "language_info": {
      "name": "python"
    }
  },
  "cells": [
    {
      "cell_type": "markdown",
      "source": [
        "## Hi there!\n",
        "So, I’m learning Python and starting to give my first steps at this language.\n",
        "I’m going to start by presenting you a few simple things that this language can do for us.\n",
        "As an example, I’m going to use a fiction dataset about a furniture store and their stock.\n",
        "I’m going to star be doing some simple things and then, get a little more difficult as we’re going along this journey.\n",
        "Our dataset will have a few items and what we want to do is things like:\n"
      ],
      "metadata": {
        "id": "hUTJqVN8gHb1"
      }
    },
    {
      "cell_type": "markdown",
      "source": [
        "# Simple Variables\n",
        "Create a program that asks the user for the price of 5 pieces of furniture and calculates the total value of these items. Use a loop to handle data input."
      ],
      "metadata": {
        "id": "qJYuWe0YgPmu"
      }
    },
    {
      "cell_type": "code",
      "execution_count": null,
      "metadata": {
        "colab": {
          "base_uri": "https://localhost:8080/"
        },
        "id": "taM9_SsygGmF",
        "outputId": "692cd8e8-9367-498c-c3e6-5b7bfb3cdc70"
      },
      "outputs": [
        {
          "output_type": "stream",
          "name": "stdout",
          "text": [
            "Furniture: ('Bed', 'Sofa', 'Table'), Price €(600, 400, 300), Stock: (17, 23, 12)\n"
          ]
        }
      ],
      "source": [
        "import pandas as pd\n",
        "\n",
        "furniture = \"Bed\", \"Sofa\", \"Table\"  # Idenitfy the pieces\n",
        "price = 600, 400, 300  # How much each one cost\n",
        "stock = 17, 23, 12  # How much stock we have\n",
        "\n",
        "print(f\"Furniture: {furniture}, Price €{price}, Stock: {stock}\")"
      ]
    },
    {
      "cell_type": "markdown",
      "source": [
        "# Variable Type\n",
        "Ask the user for the name of a piece of furniture, its price, and the quantity in stock using input. Identify the data type for each variable"
      ],
      "metadata": {
        "id": "QgkJgQ8NgpVe"
      }
    },
    {
      "cell_type": "code",
      "source": [
        "furniture = input( \"What kind of furniture are you looking for: \")\n",
        "price = input(\"How much does it cost: \")\n",
        "stock = int(input(\"How much stock do you have: \"))\n",
        "\n",
        "# Print type of variable\n",
        "print(f\" The type of {furniture} is, {type(furniture)}\")\n",
        "print(f\" The type of {price} is, {type(price)}\")\n",
        "print(f\" The type of {stock} is, {type(stock)}\")\n"
      ],
      "metadata": {
        "colab": {
          "base_uri": "https://localhost:8080/"
        },
        "id": "FHvtBeMSgtvd",
        "outputId": "061a9dcc-f03d-4462-b562-4647f8d59c95"
      },
      "execution_count": null,
      "outputs": [
        {
          "output_type": "stream",
          "name": "stdout",
          "text": [
            "What kind of furniture are you looking for: bed\n",
            "How much does it cost: 200\n",
            "How much stock do you have: 10\n",
            " The type of bed is, <class 'str'>\n",
            " The type of 200 is, <class 'str'>\n",
            " The type of 10 is, <class 'int'>\n"
          ]
        }
      ]
    },
    {
      "cell_type": "markdown",
      "source": [
        "# Simple Conditional\n",
        "Ask the user if they want to buy a piece of furniture. If they answer \"yes,\" display a message saying that the furniture has been reserved; otherwise, inform them that it remains available.\n"
      ],
      "metadata": {
        "id": "bTtfxv-Ig39n"
      }
    },
    {
      "cell_type": "code",
      "source": [
        "question = input(\"Pretend to purchase this furniture? Yes or No:\")\n",
        "\n",
        "if question.lower() == \"Yes\":\n",
        "    print(f\"Your order has been placed \")\n",
        "\n",
        "else:\n",
        "\t  print(\"The item is still available\")"
      ],
      "metadata": {
        "colab": {
          "base_uri": "https://localhost:8080/"
        },
        "id": "81S2H4Ohg__z",
        "outputId": "595630b0-3a76-49df-eedb-e52330e8938f"
      },
      "execution_count": null,
      "outputs": [
        {
          "output_type": "stream",
          "name": "stdout",
          "text": [
            "Pretend to purchase this furniture? Yes or No:y\n",
            "The item is still available\n"
          ]
        }
      ]
    },
    {
      "cell_type": "markdown",
      "source": [
        "# Compound Conditional\n",
        "Ask the user for the price of a piece of furniture. If the price is greater than 1.000,00€, display \"Premium product\"; if it is less than or equal to 500,00€, display \"Economical product\". For other cases, display \"Intermediate product\".\n"
      ],
      "metadata": {
        "id": "WgEj28V4htJg"
      }
    },
    {
      "cell_type": "code",
      "source": [
        "price = float(input(\" Please specify the price of the item: \"))\n",
        "if price > 1000:\n",
        "\t              print(\"Premium Product\")\n",
        "elif price <= 500:\n",
        "\t              print(\"Economic Product\")\n",
        "else:\n",
        "\t              print(\"Intermediate Product\")\n"
      ],
      "metadata": {
        "id": "sjT_2odYhvlq"
      },
      "execution_count": null,
      "outputs": []
    },
    {
      "cell_type": "markdown",
      "source": [
        "# Loop with Counter\n",
        "Display a 5-second countdown to announce a discount on furniture.\n"
      ],
      "metadata": {
        "id": "zxiLlR7jh5YR"
      }
    },
    {
      "cell_type": "code",
      "source": [
        "for number in range(5, 0,-1):\n",
        "    print(f\"Discont in {number} seconds... \")\n",
        "print(\"Descont activated\")"
      ],
      "metadata": {
        "colab": {
          "base_uri": "https://localhost:8080/"
        },
        "id": "1jvW_B-mh7R_",
        "outputId": "ed2dc36b-f4c0-486e-9680-2946e5d2dd33"
      },
      "execution_count": null,
      "outputs": [
        {
          "output_type": "stream",
          "name": "stdout",
          "text": [
            "Discont in 5 seconds... \n",
            "Discont in 4 seconds... \n",
            "Discont in 3 seconds... \n",
            "Discont in 2 seconds... \n",
            "Discont in 1 seconds... \n",
            "Descont activated\n"
          ]
        }
      ]
    },
    {
      "cell_type": "markdown",
      "source": [
        "# Loop with User Input\n",
        "Create a program that allows the user to add furniture to a shopping cart. The program should stop asking for inputs when the user types \"exit.\"\n"
      ],
      "metadata": {
        "id": "N2ExjyzDiB6J"
      }
    },
    {
      "cell_type": "code",
      "source": [
        "cart = []\n",
        "\n",
        "while True:\n",
        "    furniture = input(\"Please enter the name of the furniture to add it to the cart or type 'exit' to leave the process: \")\n",
        "\n",
        "    if furniture.lower() == \"exit\":\n",
        "        break\n",
        "    else:\n",
        "        cart.append(furniture)\n",
        "\n",
        "    print(\"Shopping cart:\", cart) #This line was also wrongly indented"
      ],
      "metadata": {
        "colab": {
          "base_uri": "https://localhost:8080/"
        },
        "id": "HQLxmLURiEo0",
        "outputId": "820c1c88-b554-4c7a-e9cb-bdb53ae2684b"
      },
      "execution_count": null,
      "outputs": [
        {
          "name": "stdout",
          "output_type": "stream",
          "text": [
            "Please enter the name of the furniture to add it to the cart or type 'exit' to leave the process: exit\n"
          ]
        }
      ]
    },
    {
      "cell_type": "markdown",
      "source": [
        "# List Comprehension\n",
        "Suppose the store has a list of furniture prices. Create a new list with prices discounted by 10% using list comprehension.\n"
      ],
      "metadata": {
        "id": "fr1KUNsfipnX"
      }
    },
    {
      "cell_type": "code",
      "source": [
        "price = [2000, 750, 1200, 350]\n",
        "\n",
        "price_with_descont = [price*0.9 for preco in price]\n",
        "\n",
        "print(\"Price with 10% descont\", price_with_descont)\n"
      ],
      "metadata": {
        "id": "WcCB1V3mirwx"
      },
      "execution_count": null,
      "outputs": []
    },
    {
      "cell_type": "markdown",
      "source": [
        "# Slice\n",
        "Consider a list of furniture on sale: [\"Sofa\", \"Sideboard\", \"Chair\", \"Rack\", \"Bed\"]. Show the first 3 and the last 2 items of the list.\n"
      ],
      "metadata": {
        "id": "jN7K87_vixz4"
      }
    },
    {
      "cell_type": "code",
      "source": [
        "furniture = [\"Sofa\", \"Table\", \"Chair\", \"Rack\", \"Bed\"]\n",
        "\n",
        "print(\"The first three\", furniture[:3] )\n",
        "print(\"The last two\", furniture[-2:])\n"
      ],
      "metadata": {
        "id": "Uz5Q9vwhi1OK"
      },
      "execution_count": null,
      "outputs": []
    },
    {
      "cell_type": "markdown",
      "source": [
        "# Loop with Conditional\n",
        "Given a list of furniture prices, display only the prices that are greater than a specified value. Example: prices = [1200, 850, 300, 500, 1500].\n"
      ],
      "metadata": {
        "id": "rObtBIg1i_BA"
      }
    },
    {
      "cell_type": "code",
      "source": [
        "prices = [1200, 850, 300, 500, 1500] # Price range\n",
        "\n",
        "for price in prices:\n",
        "  if price > 1000:\n",
        "    print(f\"Price above 1000: {price}\")"
      ],
      "metadata": {
        "colab": {
          "base_uri": "https://localhost:8080/"
        },
        "id": "iSSyOG7CjXZ-",
        "outputId": "0a5a7673-daf7-48ec-954d-800ac72730cf"
      },
      "execution_count": null,
      "outputs": [
        {
          "output_type": "stream",
          "name": "stdout",
          "text": [
            "Price above 1000: 1200\n",
            "Price above 1000: 1500\n"
          ]
        }
      ]
    },
    {
      "cell_type": "markdown",
      "source": [
        "# Challenge: Sum of Values\n",
        "Create a program that asks the user for the price of 5 pieces of furniture and calculates the total value of these items. Use a loop to handle data input.\n"
      ],
      "metadata": {
        "id": "XCYhGr7zjdlO"
      }
    },
    {
      "cell_type": "code",
      "source": [
        "total_value = 0\n",
        "\n",
        "for i in range(5):\n",
        "\t  price = float(input(f\"Tell the price {i+1} furniture: \"))\n",
        "\t  total_value += price\n",
        "\n",
        "print(f\"Furniture total value: {total_value} €\")\n"
      ],
      "metadata": {
        "id": "Q_cLmhS_jfuB"
      },
      "execution_count": null,
      "outputs": []
    },
    {
      "cell_type": "markdown",
      "source": [],
      "metadata": {
        "id": "h6m4zqiTjAxN"
      }
    }
  ]
}